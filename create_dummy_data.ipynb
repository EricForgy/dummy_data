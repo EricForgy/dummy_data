{
 "cells": [
  {
   "cell_type": "markdown",
   "metadata": {},
   "source": [
    "# Generating dummy datasets\n",
    "\n",
    "This notebook describes an approach for generating dummy data\n",
    "\n",
    "TODO\n",
    "- add continuous distributions (e.g. property values, account values, limits, etc)\n",
    "- add ability to simulate claims from dummy data"
   ]
  },
  {
   "cell_type": "code",
   "execution_count": null,
   "metadata": {},
   "outputs": [],
   "source": [
    "#set up environment\n",
    "import numpy as np\n",
    "import pandas as pd"
   ]
  },
  {
   "cell_type": "markdown",
   "metadata": {},
   "source": [
    "## Basics\n",
    "\n",
    "Below we go through a simple example. Lets say we want to add a categorical column to our data for Gender with two levels. We want the proportion of the males to be 45% of the data with the remaining as females. We could describe this using a Python dictionary as follows:"
   ]
  },
  {
   "cell_type": "code",
   "execution_count": null,
   "metadata": {},
   "outputs": [],
   "source": [
    "gender = {'M': 0.45,\n",
    "          'F': 0.55}"
   ]
  },
  {
   "cell_type": "code",
   "execution_count": null,
   "metadata": {},
   "outputs": [],
   "source": [
    "cat = pd.DataFrame({'Probs': gender}) # converting to a Pandas dataframe\n",
    "\n",
    "print(cat)"
   ]
  },
  {
   "cell_type": "code",
   "execution_count": null,
   "metadata": {},
   "outputs": [],
   "source": [
    "num_cats = cat.shape[0] # number of categories\n",
    "num_cats"
   ]
  },
  {
   "cell_type": "code",
   "execution_count": null,
   "metadata": {},
   "outputs": [],
   "source": [
    "num_records = 100"
   ]
  },
  {
   "cell_type": "markdown",
   "metadata": {},
   "source": [
    "Numpy has a useful function called Choice that is perfect for the task of generating samples of levels for our category"
   ]
  },
  {
   "cell_type": "code",
   "execution_count": null,
   "metadata": {},
   "outputs": [],
   "source": [
    "cat_sims = np.random.choice(num_cats, num_records, p=cat.Probs) # outputs a numpy array\n",
    "cat_sims = pd.DataFrame({'Sims': cat_sims}) # converts array to data frame\n",
    "cat_sims.head(10) # show first 10 rows"
   ]
  },
  {
   "cell_type": "code",
   "execution_count": null,
   "metadata": {},
   "outputs": [],
   "source": [
    "mapping = pd.DataFrame({'Mapping': cat.index.values}) # create a second dataframe of the labels of our category\n",
    "mapping"
   ]
  },
  {
   "cell_type": "code",
   "execution_count": null,
   "metadata": {},
   "outputs": [],
   "source": [
    "# merge the sims and the labels to produce a column of labels in the proportions we are looking for\n",
    "cat_sims_2 = pd.merge(cat_sims, mapping, right_index=True, left_on='Sims').sort_index()\n",
    "cat_sims_2.head(10)"
   ]
  },
  {
   "cell_type": "markdown",
   "metadata": {},
   "source": [
    "## Fuller Implementation\n",
    "\n",
    "We can put the steps above into a function to make it easier to reuse (DRY principle)."
   ]
  },
  {
   "cell_type": "code",
   "execution_count": null,
   "metadata": {},
   "outputs": [],
   "source": [
    "def gen_categorical(data_frame, category, col_name, num_records=1000):\n",
    "    \"\"\"adds category as a new column to data_frame\n",
    "    \n",
    "    Parameters\n",
    "    ----------\n",
    "    data_frame: pd.DataFrame\n",
    "        the input dataset\n",
    "    category: dict\n",
    "        defintion of the categorical of the form {category_label (str): proportion (float)}\n",
    "        proportions should add up to 1\n",
    "    col_name: str\n",
    "        name for the column in the returned dataset\n",
    "    num_records: int, optional\n",
    "        defaults to 1000, only used if input data_frame is empty\n",
    "        \n",
    "    Returns\n",
    "    -------\n",
    "    pd.DataFrame\n",
    "        input DataFrame with additional or overwritten columns\n",
    "        \n",
    "    Examples\n",
    "    --------\n",
    "    Examples should be written in doctest format, and should illustrate how\n",
    "    to use the function.\n",
    "\n",
    "    >>> df = get_categorical(df, {'M': 0.45, 'F': 0.55}, 'Gender')\n",
    "    \n",
    "    TODO\n",
    "    --------\n",
    "    Add checks that probabilities add to 1, check types\n",
    "    \n",
    "    \"\"\"\n",
    "    \n",
    "    # wise to copy data_frame to avoid unintended inplace operations\n",
    "    data_frame = data_frame.copy()\n",
    "    \n",
    "    # use existing dataframe length if available\n",
    "    if dummy_data.shape[0] == 0: \n",
    "        num_records = num_records\n",
    "    else:\n",
    "        num_records = data_frame.shape[0]\n",
    "    \n",
    "    # turn category definition into DataFrame object\n",
    "    cat = pd.DataFrame({'Probs': category}) \n",
    "    \n",
    "    # generate the dummy data\n",
    "    cat_sims = np.random.choice(cat.shape[0], num_records, p=cat.Probs) # simulate\n",
    "    cat_sims = pd.DataFrame({'Sims': cat_sims})\n",
    "    mapping = pd.DataFrame({'Mapping': cat.index.values})\n",
    "    cat_sims_2 = pd.merge(cat_sims, mapping, right_index=True, left_on='Sims').sort_index()\n",
    "    \n",
    "    # assigns the dummy data to the data_drame\n",
    "    data_frame[col_name] = cat_sims_2.Mapping\n",
    "    \n",
    "    return data_frame"
   ]
  },
  {
   "cell_type": "markdown",
   "metadata": {},
   "source": [
    "Below we create some categories, initialise a dataframe and then loop through the categories adding them to the dataset"
   ]
  },
  {
   "cell_type": "code",
   "execution_count": null,
   "metadata": {},
   "outputs": [],
   "source": [
    "# set up categories as a dictionary\n",
    "categories = {'Gender': {'M': 0.45,\n",
    "                         'F': 0.55},\n",
    "              \n",
    "              'Product': {'A': 0.4,\n",
    "                          'B': 0.2,\n",
    "                          'C': 0.35,\n",
    "                          'D': 0.05}\n",
    "             }\n",
    "\n",
    "# initialise data frame\n",
    "dummy_data = pd.DataFrame()\n",
    "\n",
    "# run for loop to iterate over the categories calling the gen_categorical function to generate the data\n",
    "for cat_name, cat_value in categories.items():\n",
    "    dummy_data = gen_categorical(dummy_data, cat_value, cat_name, num_records=5000)\n",
    "\n",
    "# first few rows to check\n",
    "dummy_data.head(20)"
   ]
  },
  {
   "cell_type": "code",
   "execution_count": null,
   "metadata": {},
   "outputs": [],
   "source": [
    "path = 'C:\\\\Users\\\\U006256\\\\Desktop\\dummy_data.xlsx' # update to where you want to save the file\n",
    "dummy_data.to_excel(path)"
   ]
  }
 ],
 "metadata": {
  "kernelspec": {
   "display_name": "Python 3",
   "language": "python",
   "name": "python3"
  },
  "language_info": {
   "codemirror_mode": {
    "name": "ipython",
    "version": 3
   },
   "file_extension": ".py",
   "mimetype": "text/x-python",
   "name": "python",
   "nbconvert_exporter": "python",
   "pygments_lexer": "ipython3",
   "version": "3.6.3"
  }
 },
 "nbformat": 4,
 "nbformat_minor": 2
}
